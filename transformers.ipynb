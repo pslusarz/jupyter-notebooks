{
 "cells": [
  {
   "cell_type": "markdown",
   "source": [
    "Based on https://huggingface.co/docs/transformers/tasks/sequence_classification"
   ],
   "metadata": {
    "collapsed": false,
    "pycharm": {
     "name": "#%% md\n"
    }
   }
  },
  {
   "cell_type": "code",
   "execution_count": 2,
   "outputs": [
    {
     "data": {
      "text/plain": "   review_id  vehicle_id                      email       screen_name  \\\n0     953285       50215      JOSEANT1710@GMAIL.COM              Jose   \n1     953295        8212   HOLLISCROSS621@YAHOO.COM        Subaru Fan   \n2     953305       53775     KEYELEMENTS8@GMAIL.COM               WDS   \n3     953405       51833        MANTSBLOG@GMAIL.COM              Nino   \n4     953415       54993  SNEED.BRODERICK@YAHOO.COM  BMW650IGranCoupe   \n\n           review_date  status  \\\n0  2021-01-01 00:51:25       5   \n1  2021-01-01 00:53:36       5   \n2  2021-01-01 01:03:37       3   \n3  2021-01-01 02:24:36       3   \n4  2021-01-01 03:12:19       3   \n\n                                       global_review          create_date  \\\n0  I only buy toyota they don't give any mechanic...  2021-01-01 00:51:26   \n1  Been the sporty 2nd car as we have had 2 cars ...  2021-01-01 00:53:36   \n2  These are the features I like on this vehicle....  2021-01-01 01:03:37   \n3  Great, fun, energetic car! I'm 6'2\" and have a...  2021-01-01 02:24:36   \n4  This car is hAs so many safety features.  Blin...  2021-01-01 03:12:18   \n\n     last_changed_date  global_rating        global_title     updated_by  \n0  2021-02-20 11:04:33              5       Great love it   Monica Davis  \n1  2021-02-12 10:26:29              5  Hardly been driven    Caden Smith  \n2  2021-03-09 20:24:32              5            Features    Caden Smith  \n3  2021-03-12 15:20:54              5          Great car!  Aidan Bretzel  \n4  2021-02-26 10:58:13              5   True performance      Bill Smith  ",
      "text/html": "<div>\n<style scoped>\n    .dataframe tbody tr th:only-of-type {\n        vertical-align: middle;\n    }\n\n    .dataframe tbody tr th {\n        vertical-align: top;\n    }\n\n    .dataframe thead th {\n        text-align: right;\n    }\n</style>\n<table border=\"1\" class=\"dataframe\">\n  <thead>\n    <tr style=\"text-align: right;\">\n      <th></th>\n      <th>review_id</th>\n      <th>vehicle_id</th>\n      <th>email</th>\n      <th>screen_name</th>\n      <th>review_date</th>\n      <th>status</th>\n      <th>global_review</th>\n      <th>create_date</th>\n      <th>last_changed_date</th>\n      <th>global_rating</th>\n      <th>global_title</th>\n      <th>updated_by</th>\n    </tr>\n  </thead>\n  <tbody>\n    <tr>\n      <th>0</th>\n      <td>953285</td>\n      <td>50215</td>\n      <td>JOSEANT1710@GMAIL.COM</td>\n      <td>Jose</td>\n      <td>2021-01-01 00:51:25</td>\n      <td>5</td>\n      <td>I only buy toyota they don't give any mechanic...</td>\n      <td>2021-01-01 00:51:26</td>\n      <td>2021-02-20 11:04:33</td>\n      <td>5</td>\n      <td>Great love it</td>\n      <td>Monica Davis</td>\n    </tr>\n    <tr>\n      <th>1</th>\n      <td>953295</td>\n      <td>8212</td>\n      <td>HOLLISCROSS621@YAHOO.COM</td>\n      <td>Subaru Fan</td>\n      <td>2021-01-01 00:53:36</td>\n      <td>5</td>\n      <td>Been the sporty 2nd car as we have had 2 cars ...</td>\n      <td>2021-01-01 00:53:36</td>\n      <td>2021-02-12 10:26:29</td>\n      <td>5</td>\n      <td>Hardly been driven</td>\n      <td>Caden Smith</td>\n    </tr>\n    <tr>\n      <th>2</th>\n      <td>953305</td>\n      <td>53775</td>\n      <td>KEYELEMENTS8@GMAIL.COM</td>\n      <td>WDS</td>\n      <td>2021-01-01 01:03:37</td>\n      <td>3</td>\n      <td>These are the features I like on this vehicle....</td>\n      <td>2021-01-01 01:03:37</td>\n      <td>2021-03-09 20:24:32</td>\n      <td>5</td>\n      <td>Features</td>\n      <td>Caden Smith</td>\n    </tr>\n    <tr>\n      <th>3</th>\n      <td>953405</td>\n      <td>51833</td>\n      <td>MANTSBLOG@GMAIL.COM</td>\n      <td>Nino</td>\n      <td>2021-01-01 02:24:36</td>\n      <td>3</td>\n      <td>Great, fun, energetic car! I'm 6'2\" and have a...</td>\n      <td>2021-01-01 02:24:36</td>\n      <td>2021-03-12 15:20:54</td>\n      <td>5</td>\n      <td>Great car!</td>\n      <td>Aidan Bretzel</td>\n    </tr>\n    <tr>\n      <th>4</th>\n      <td>953415</td>\n      <td>54993</td>\n      <td>SNEED.BRODERICK@YAHOO.COM</td>\n      <td>BMW650IGranCoupe</td>\n      <td>2021-01-01 03:12:19</td>\n      <td>3</td>\n      <td>This car is hAs so many safety features.  Blin...</td>\n      <td>2021-01-01 03:12:18</td>\n      <td>2021-02-26 10:58:13</td>\n      <td>5</td>\n      <td>True performance</td>\n      <td>Bill Smith</td>\n    </tr>\n  </tbody>\n</table>\n</div>"
     },
     "execution_count": 2,
     "metadata": {},
     "output_type": "execute_result"
    }
   ],
   "source": [
    "import pandas\n",
    "reviews = pandas.read_csv(\"data/reviews.csv\")\n",
    "reviews.head()"
   ],
   "metadata": {
    "collapsed": false,
    "pycharm": {
     "name": "#%%\n"
    }
   }
  },
  {
   "cell_type": "code",
   "execution_count": 3,
   "outputs": [],
   "source": [
    "reviews['label'] = reviews.apply(lambda row: 1 if row['status'] == 3.0 else 0, axis=1)\n",
    "\n"
   ],
   "metadata": {
    "collapsed": false,
    "pycharm": {
     "name": "#%%\n"
    }
   }
  },
  {
   "cell_type": "code",
   "execution_count": 4,
   "outputs": [],
   "source": [
    "from transformers import AutoTokenizer\n",
    "tokenizer = AutoTokenizer.from_pretrained(\"distilbert-base-uncased\")"
   ],
   "metadata": {
    "collapsed": false,
    "pycharm": {
     "name": "#%%\n"
    }
   }
  },
  {
   "cell_type": "code",
   "execution_count": 5,
   "outputs": [],
   "source": [
    "\n",
    "def preprocess_function(row):\n",
    "    return tokenizer(str(row['global_review']), truncation=True)\n"
   ],
   "metadata": {
    "collapsed": false,
    "pycharm": {
     "name": "#%%\n"
    }
   }
  },
  {
   "cell_type": "code",
   "execution_count": 6,
   "outputs": [
    {
     "data": {
      "text/plain": "  0%|          | 0/228343 [00:00<?, ?ex/s]",
      "application/vnd.jupyter.widget-view+json": {
       "version_major": 2,
       "version_minor": 0,
       "model_id": "5c74c6bfeaba4408a4316af1d3642ee0"
      }
     },
     "metadata": {},
     "output_type": "display_data"
    },
    {
     "data": {
      "text/plain": "  0%|          | 0/57086 [00:00<?, ?ex/s]",
      "application/vnd.jupyter.widget-view+json": {
       "version_major": 2,
       "version_minor": 0,
       "model_id": "a36501f941714664a05034341e7fda0a"
      }
     },
     "metadata": {},
     "output_type": "display_data"
    }
   ],
   "source": [
    "train = reviews.sample(frac=0.8, random_state= 25)\n",
    "test = reviews.drop(train.index)\n",
    "\n",
    "from datasets import Dataset\n",
    "train_ds = Dataset.from_pandas(train[['global_review','label']])\n",
    "test_ds = Dataset.from_pandas(test[['global_review','label']])\n",
    "\n",
    "tokenized_train_ds = train_ds.map(preprocess_function)\n",
    "tokenized_test_ds = test_ds.map(preprocess_function)"
   ],
   "metadata": {
    "collapsed": false,
    "pycharm": {
     "name": "#%%\n"
    }
   }
  },
  {
   "cell_type": "code",
   "execution_count": 7,
   "outputs": [],
   "source": [
    "from transformers import DataCollatorWithPadding\n",
    "data_collator = DataCollatorWithPadding(tokenizer=tokenizer)"
   ],
   "metadata": {
    "collapsed": false,
    "pycharm": {
     "name": "#%%\n"
    }
   }
  },
  {
   "cell_type": "code",
   "execution_count": 9,
   "outputs": [],
   "source": [
    "from transformers import AutoModelForSequenceClassification, TrainingArguments, Trainer\n",
    "##model = AutoModelForSequenceClassification.from_pretrained(\"distilbert-base-uncased\", num_labels = 2)"
   ],
   "metadata": {
    "collapsed": false,
    "pycharm": {
     "name": "#%%\n"
    }
   }
  },
  {
   "cell_type": "markdown",
   "source": [
    "Loading model from a savepoint (in case training gets interrupted)"
   ],
   "metadata": {
    "collapsed": false,
    "pycharm": {
     "name": "#%% md\n"
    }
   }
  },
  {
   "cell_type": "code",
   "execution_count": null,
   "outputs": [],
   "source": [
    "model = AutoModelForSequenceClassification.from_pretrained(\"results/checkpoint-35000\")"
   ],
   "metadata": {
    "collapsed": false,
    "pycharm": {
     "name": "#%%\n"
    }
   }
  },
  {
   "cell_type": "markdown",
   "source": [
    "Getting a prediction on a single review. First number is likelihood for rejection, second is likelihood for acceptance. Negative means low likelihood."
   ],
   "metadata": {
    "collapsed": false
   }
  },
  {
   "cell_type": "code",
   "execution_count": 15,
   "outputs": [
    {
     "name": "stdout",
     "output_type": "stream",
     "text": [
      "SequenceClassifierOutput(loss=None, logits=tensor([[ 1.4363, -1.2542]], grad_fn=<AddmmBackward0>), hidden_states=None, attentions=None)\n"
     ]
    }
   ],
   "source": [
    "inputs = tokenizer(\"This is a good car I drive it all day ass dammit.\", return_tensors=\"pt\")\n",
    "outputs = model(**inputs)\n",
    "print (outputs)"
   ],
   "metadata": {
    "collapsed": false,
    "pycharm": {
     "name": "#%%\n"
    }
   }
  },
  {
   "cell_type": "code",
   "execution_count": 66,
   "outputs": [
    {
     "name": "stderr",
     "output_type": "stream",
     "text": [
      "PyTorch: setting up devices\n",
      "The default value for the training argument `--report_to` will change in v5 (from all installed integrations to none). In v5, you will need to use `--report_to all` to get the same behavior as now. You should start updating your code and make this info disappear :-).\n"
     ]
    }
   ],
   "source": [
    "training_args = TrainingArguments(\n",
    "    output_dir=\"./results2\",\n",
    "    learning_rate=2e-5,\n",
    "    per_device_train_batch_size=16,\n",
    "    per_device_eval_batch_size=16,\n",
    "    num_train_epochs=5,\n",
    "    weight_decay=0.01,\n",
    ")\n",
    "\n",
    "trainer = Trainer(\n",
    "    model=model,\n",
    "    args=training_args,\n",
    "    train_dataset=tokenized_train_ds,\n",
    "    eval_dataset=tokenized_test_ds,\n",
    "    tokenizer=tokenizer,\n",
    "    data_collator=data_collator,\n",
    ")"
   ],
   "metadata": {
    "collapsed": false,
    "pycharm": {
     "name": "#%%\n"
    }
   }
  },
  {
   "cell_type": "code",
   "execution_count": 1,
   "outputs": [
    {
     "ename": "NameError",
     "evalue": "name 'trainer' is not defined",
     "output_type": "error",
     "traceback": [
      "\u001B[0;31m---------------------------------------------------------------------------\u001B[0m",
      "\u001B[0;31mNameError\u001B[0m                                 Traceback (most recent call last)",
      "Input \u001B[0;32mIn [1]\u001B[0m, in \u001B[0;36m<cell line: 1>\u001B[0;34m()\u001B[0m\n\u001B[0;32m----> 1\u001B[0m \u001B[43mtrainer\u001B[49m\u001B[38;5;241m.\u001B[39mtrain()\n",
      "\u001B[0;31mNameError\u001B[0m: name 'trainer' is not defined"
     ]
    }
   ],
   "source": [
    "trainer.train()\n"
   ],
   "metadata": {
    "collapsed": false,
    "pycharm": {
     "name": "#%%\n"
    }
   }
  }
 ],
 "metadata": {
  "kernelspec": {
   "display_name": "Python 3 (ipykernel)",
   "language": "python",
   "name": "python3"
  },
  "language_info": {
   "codemirror_mode": {
    "name": "ipython",
    "version": 3
   },
   "file_extension": ".py",
   "mimetype": "text/x-python",
   "name": "python",
   "nbconvert_exporter": "python",
   "pygments_lexer": "ipython3",
   "version": "3.9.14"
  }
 },
 "nbformat": 4,
 "nbformat_minor": 1
}